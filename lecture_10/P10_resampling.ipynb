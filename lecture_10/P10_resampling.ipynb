{
 "cells": [
  {
   "cell_type": "markdown",
   "metadata": {},
   "source": [
    "# P10: Error estimation"
   ]
  },
  {
   "cell_type": "markdown",
   "metadata": {},
   "source": [
    "Galaxies are a biased tracer of the Dark Matter (DM) distribution in the Universe. Therefore, by measuring the statistical properties of the discrete galaxy distribution, we can learn about the statistical properties of the underlying continuous DM distribution.\n",
    "\n",
    "In order to do this, we usually create pixelized maps of the galaxy number density as a function of angular position, $x_i, y_i$, where $n(x_i, y_i)$ denotes the number of galaxies in pixel $i$. The average number of galaxies over the whole footprint can then be calculated as $$\\bar n = \\frac 1 N \\sum_{i=1}^N n(x_i, y_i),$$ where $N$ dnotes the total number of pixels.\n",
    "\n",
    "Finally, we can turn the number density maps into galaxy overdensity maps, $\\delta_g(x_i, y_i)$, as $$\\hat\\delta_g(x_i, y_i) = \\frac {n(x_i, y_i)-\\bar n} {\\bar n}.$$ On large spatial scales, the galaxy overdensity is linearly-biased with respect to the DM overdensity, i.e. $\\delta_g(x_i, y_i) = b\\delta_m(x_i, y_i)$, where $b$ denotes the linear galaxy bias. Here, we make the assumption that $b=1$.\n",
    "\n",
    "In this problem set, we will use a galaxy catalog and estimate the corresponding overdensity field. We will then study the statistical properties of this field, and derive error bars for our measurements.\n",
    "\n",
    "Let us assume that the underlying, continuous DM distribution is given by:"
   ]
  },
  {
   "cell_type": "code",
   "execution_count": 1,
   "metadata": {},
   "outputs": [],
   "source": [
    "import numpy as np\n",
    "import matplotlib.pyplot as plt\n",
    "%matplotlib inline"
   ]
  },
  {
   "cell_type": "code",
   "execution_count": 3,
   "metadata": {},
   "outputs": [],
   "source": [
    "# Finely gridded true field\n",
    "rho_m = np.loadtxt('data/density.txt')\n",
    "delta_m = rho_m - np.mean(rho_m)\n",
    "\n",
    "x = np.loadtxt('data/densityx.txt')\n",
    "y = np.loadtxt('data/densityy.txt')"
   ]
  },
  {
   "cell_type": "code",
   "execution_count": 11,
   "metadata": {},
   "outputs": [
    {
     "data": {
      "image/png": "[encoded data removed]",
      "text/plain": [
       "<Figure size 432x288 with 2 Axes>"
      ]
     },
     "metadata": {
      "needs_background": "light"
     },
     "output_type": "display_data"
    }
   ],
   "source": [
    "plt.contourf(x, y, rho_m)\n",
    "plt.xlabel(r'$x$', fontsize=14)\n",
    "plt.ylabel(r'$y$', fontsize=14)\n",
    "cbar = plt.colorbar()\n",
    "cbar.set_label(r'$\\delta_m$', fontsize=14)"
   ]
  },
  {
   "cell_type": "markdown",
   "metadata": {},
   "source": [
    "## Problem 1: Create an overdensity map from a catalog"
   ]
  },
  {
   "cell_type": "markdown",
   "metadata": {},
   "source": [
    "The file `data/catalog.txt` contains a catalog of angular coordinates of galaxies. Assuming that we are looking at a small patch of the sky, we will work in the so-called flat sky approximation, and assume that the coordinates are approximately Cartesian. \n",
    "\n",
    "Use these data to create a pixelized map of $\\hat\\delta_g$ with a pixel size such that you have approximately 20 objects per bin on average."
   ]
  },
  {
   "cell_type": "markdown",
   "metadata": {},
   "source": [
    "## Problem 2: Statistics of the overdensity field"
   ]
  },
  {
   "cell_type": "markdown",
   "metadata": {},
   "source": [
    "(i) Use the map from problem 1 and estimate the variance, standard deviation, kurtosis, and center of mass of the field. \n",
    "\n",
    "(ii) Investigate the dependence of your results on the number of pixels used to estimate the field. Hint: Think about shot noise.\n",
    "\n",
    "**Note:** The kurtosis is the ratio of the fourth central moment, $\\mu_4$, and the variance squared of a distribution, i.e. $$\\beta_2 = \\frac{\\mu_4}{\\sigma^4}.$$ It provides a measure for the tailedness of a distribution and thus tells us about the presence of outliers. For a Gaussian distribution, the kurtosis is $\\beta_2=3$, and we can thus define the excess kurtosis $\\gamma_2$ as $$\\gamma_2=\\beta_2-3,$$ which vanishes for a Gaussian distribution by definition."
   ]
  },
  {
   "cell_type": "markdown",
   "metadata": {},
   "source": [
    "## Problem 3: Error estimation"
   ]
  },
  {
   "cell_type": "markdown",
   "metadata": {},
   "source": [
    "Estimate the errors of your estimators for variance, standard deviation, kurtosis and center of mass. \n",
    "\n",
    "(i) For the cases in which no analytic predictions exists, use both Jackknife and Bootstrap. Which of the two methods can be applied at catalog- or at pixel-level?\n",
    "\n",
    "(i) Compare the results obtained using both methods and interpret your results."
   ]
  },
  {
   "cell_type": "code",
   "execution_count": null,
   "metadata": {},
   "outputs": [],
   "source": []
  }
 ],
 "metadata": {
  "kernelspec": {
   "display_name": "statmeth_env",
   "language": "python",
   "name": "statmeth_env"
  },
  "language_info": {
   "codemirror_mode": {
    "name": "ipython",
    "version": 3
   },
   "file_extension": ".py",
   "mimetype": "text/x-python",
   "name": "python",
   "nbconvert_exporter": "python",
   "pygments_lexer": "ipython3",
   "version": "3.11.4"
  }
 },
 "nbformat": 4,
 "nbformat_minor": 2
}
